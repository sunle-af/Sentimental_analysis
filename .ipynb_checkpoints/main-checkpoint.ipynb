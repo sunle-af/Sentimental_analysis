{
 "cells": [
  {
   "cell_type": "code",
   "execution_count": 13,
   "metadata": {},
   "outputs": [
    {
     "name": "stdout",
     "output_type": "stream",
     "text": [
      "Output:-  ['game', 'of', 'thrones', 'is', 'an', 'american', 'fantasy', 'drama', 'television', 'series', 'created', 'by', 'david', 'benioff', 'and', 'd', 'b', 'weiss', 'for', 'hbo', 'it', 'is', 'an', 'adaptation', 'of', 'a', 'song', 'of', 'ice', 'and', 'fire', 'a', 'series', 'of', 'fantasy', 'novels', 'by', 'george', 'r', 'r', 'martin', 'the', 'first', 'of', 'which', 'is', 'a', 'game', 'of', 'thrones', 'the', 'show', 'was', 'shot', 'in', 'the', 'united', 'kingdom', 'canada', 'croatia', 'iceland', 'malta', 'morocco', 'and', 'spain', 'it', 'premiered', 'on', 'hbo', 'in', 'the', 'united', 'states', 'on', 'april', '17', '2011', 'and', 'concluded', 'on', 'may', '19', '2019', 'with', '73', 'episodes', 'broadcast', 'over', 'eight', 'seasons', 'set', 'on', 'the', 'fictional', 'continents', 'of', 'westeros', 'and', 'essos', 'game', 'of', 'thrones', 'has', 'a', 'large', 'ensemble', 'cast', 'and', 'follows', 'several', 'story', 'arcs', 'throughout', 'the', 'course', 'of', 'the', 'show', 'a', 'major', 'arc', 'concerns', 'the', 'iron', 'throne', 'of', 'the', 'seven', 'kingdoms', 'of', 'westeros', 'and', 'follows', 'a', 'web', 'of', 'alliances', 'and', 'conflicts', 'among', 'the', 'noble', 'dynasties', 'either', 'vying', 'to', 'claim', 'the', 'throne', 'or', 'fighting', 'for', 'independence', 'from', 'it', 'another', 'focuses', 'on', 'the', 'last', 'descendant', 'of', 'the', 'realms', 'deposed', 'ruling', 'dynasty', 'who', 'has', 'been', 'exiled', 'to', 'essos', 'and', 'is', 'plotting', 'a', 'return', 'to', 'the', 'throne', 'a', 'third', 'story', 'arc', 'follows', 'the', 'nights', 'watch', 'a', 'military', 'order', 'defending', 'the', 'realm', 'against', 'threats', 'from', 'the', 'north', 'game', 'of', 'thrones', 'attracted', 'a', 'record', 'viewership', 'on', 'hbo', 'and', 'has', 'a', 'broad', 'active', 'and', 'international', 'fan', 'base', 'critics', 'have', 'praised', 'the', 'series', 'for', 'its', 'acting', 'complex', 'characters', 'story', 'scope', 'and', 'production', 'values', 'although', 'its', 'frequent', 'use', 'of', 'nudity', 'and', 'violence', 'including', 'sexual', 'violence', 'has', 'been', 'subject', 'to', 'criticism', 'the', 'final', 'season', 'received', 'significant', 'critical', 'backlash', 'for', 'its', 'reduced', 'length', 'and', 'creative', 'decisions', 'with', 'many', 'considering', 'it', 'a', 'disappointing', 'conclusion', 'the', 'series', 'received', '59', 'primetime', 'emmy', 'awards', 'the', 'most', 'by', 'a', 'drama', 'series', 'including', 'outstanding', 'drama', 'series', 'in', '2015', '2016', '2018', 'and', '2019', 'its', 'other', 'awards', 'and', 'nominations', 'include', 'three', 'hugo', 'awards', 'for', 'best', 'dramatic', 'presentation', 'a', 'peabody', 'award', 'and', 'five', 'nominations', 'for', 'the', 'golden', 'globe', 'award', 'for', 'best', 'television', 'series', '–', 'drama', 'many', 'critics', 'and', 'publications', 'have', 'named', 'the', 'show', 'as', 'one', 'of', 'the', 'best', 'television', 'series', 'of', 'all', 'time']\n"
     ]
    }
   ],
   "source": [
    "#Tokenization\n",
    "import string\n",
    "from collections import Counter\n",
    "import matplotlib.pyplot as plt\n",
    "\n",
    " \n",
    "\n",
    "text = open('readfile.txt',encoding='utf-8').read();\n",
    "lower_case = text.lower() #converting the text into lowercase \n",
    "#lowercase is just a function conver anything to strings removing the punctuations \n",
    "#Cleaning the text\n",
    "cleaned_text = lower_case.translate(str.maketrans('','',string.punctuation))\n",
    "#maketrans eg str1 = abc str2 =gef we need to remove them so we write maketrans(str1,str2, delete this things ) in our case we just need to delete the puncutations \n",
    "#and translate is just converting\n",
    "tokenized_words = cleaned_text.split()\n",
    "print(\"Output:- \",tokenized_words)\n",
    "#split make sure that the words which we get are sepreated in a list\n",
    "#NLP is analysis of words not the sentences so that we can use it later on"
   ]
  },
  {
   "cell_type": "code",
   "execution_count": 14,
   "metadata": {},
   "outputs": [],
   "source": [
    "#Removing the stop words(Anything which do not add any meaning to the sentences)\n",
    "stop_words = [\"i\", \"me\", \"my\", \"myself\", \"we\", \"our\", \"ours\", \"ourselves\", \"you\", \"your\", \"yours\", \"yourself\",\n",
    "              \"yourselves\", \"he\", \"him\", \"his\", \"himself\", \"she\", \"her\", \"hers\", \"herself\", \"it\", \"its\", \"itself\",\n",
    "              \"they\", \"them\", \"their\", \"theirs\", \"themselves\", \"what\", \"which\", \"who\", \"whom\", \"this\", \"that\", \"these\",\n",
    "              \"those\", \"am\", \"is\", \"are\", \"was\", \"were\", \"be\", \"been\", \"being\", \"have\", \"has\", \"had\", \"having\", \"do\",\n",
    "              \"does\", \"did\", \"doing\", \"a\", \"an\", \"the\", \"and\", \"but\", \"if\", \"or\", \"because\", \"as\", \"until\", \"while\",\n",
    "              \"of\", \"at\", \"by\", \"for\", \"with\", \"about\", \"against\", \"between\", \"into\", \"through\", \"during\", \"before\",\n",
    "              \"after\", \"above\", \"below\", \"to\", \"from\", \"up\", \"down\", \"in\", \"out\", \"on\", \"off\", \"over\", \"under\", \"again\",\n",
    "              \"further\", \"then\", \"once\", \"here\", \"there\", \"when\", \"where\", \"why\", \"how\", \"all\", \"any\", \"both\", \"each\",\n",
    "              \"few\", \"more\", \"most\", \"other\", \"some\", \"such\", \"no\", \"nor\", \"not\", \"only\", \"own\", \"same\", \"so\", \"than\",\n",
    "              \"too\", \"very\", \"s\", \"t\", \"can\", \"will\", \"just\", \"don\", \"should\", \"now\"]\n",
    "# now that we have a list of words which have no meaning to the sentence we just can remove it from our sentence\n",
    "final_words = [] #it is just a list of words that we end up after removing the stop words\n",
    "for word in tokenized_words:\n",
    "    if word not in stop_words:\n",
    "        final_words.append(word)\n",
    "#what we are doing is looping the tokenized words and then storing it into a temp. variable named as word\n",
    "#if the current word is not prensent in the stop_words list then we can just append it to the final_words list or simply saying adding the words to the final words\n",
    "#print(final_words)\n"
   ]
  },
  {
   "cell_type": "code",
   "execution_count": 15,
   "metadata": {},
   "outputs": [
    {
     "name": "stdout",
     "output_type": "stream",
     "text": [
      "[' attracted', ' esteemed']\n",
      "Counter({' attracted': 1, ' esteemed': 1})\n"
     ]
    },
    {
     "data": {
      "image/png": "[encoded data removed]",
      "text/plain": [
       "<Figure size 432x288 with 1 Axes>"
      ]
     },
     "metadata": {
      "needs_background": "light"
     },
     "output_type": "display_data"
    }
   ],
   "source": [
    "#NLP ALGORITHM\n",
    "#1)check the word if it is prensent in emotion.txt\n",
    "#2)if word is present->add it to emotion_list\n",
    "#3)Finally count each emotion in the emotion list\n",
    "emotion_list = []\n",
    "with open('emotions.txt', 'r') as file:\n",
    "    for line in file:\n",
    "        clear_line = line.replace(\"\\n\", '').replace(\",\", '').replace(\"'\", '').strip()\n",
    "        word, emotion = clear_line.split(':')# it is just spliting words and emotion for eg accused : cheated so accused will be in word and cheated will be the emotion  \n",
    "\n",
    "        if word in final_words:\n",
    "            emotion_list.append(emotion)\n",
    "            \n",
    "print(emotion_list)\n",
    "count = Counter(emotion_list)\n",
    "print(count)\n",
    "plt.bar(count.keys(),count.values())\n",
    "plt.savefig('graph.png')"
   ]
  },
  {
   "cell_type": "code",
   "execution_count": null,
   "metadata": {},
   "outputs": [],
   "source": [
    " "
   ]
  },
  {
   "cell_type": "code",
   "execution_count": null,
   "metadata": {},
   "outputs": [],
   "source": []
  }
 ],
 "metadata": {
  "kernelspec": {
   "display_name": "Python 3",
   "language": "python",
   "name": "python3"
  },
  "language_info": {
   "codemirror_mode": {
    "name": "ipython",
    "version": 3
   },
   "file_extension": ".py",
   "mimetype": "text/x-python",
   "name": "python",
   "nbconvert_exporter": "python",
   "pygments_lexer": "ipython3",
   "version": "3.8.2"
  }
 },
 "nbformat": 4,
 "nbformat_minor": 4
}
